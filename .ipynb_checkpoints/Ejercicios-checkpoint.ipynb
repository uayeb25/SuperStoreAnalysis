{
 "cells": [
  {
   "cell_type": "code",
   "execution_count": 26,
   "id": "2979fbd7-faf7-4d00-afa5-268c86a3f44a",
   "metadata": {},
   "outputs": [],
   "source": [
    "import pandas as pd\n",
    "from datetime import date"
   ]
  },
  {
   "cell_type": "markdown",
   "id": "2d9eb103-7cd7-4066-b23c-7e925647a482",
   "metadata": {},
   "source": [
    "### Lectura de dataframes"
   ]
  },
  {
   "cell_type": "code",
   "execution_count": 3,
   "id": "b7a024dc-9137-4339-8b18-71925074ed38",
   "metadata": {},
   "outputs": [],
   "source": [
    "df = pd.read_csv(\"Sample - Superstore.csv\")"
   ]
  },
  {
   "cell_type": "code",
   "execution_count": 8,
   "id": "0fe3b8f2-c91b-4f2d-954d-a5d549ea6868",
   "metadata": {},
   "outputs": [
    {
     "data": {
      "text/plain": [
       "Index(['Row ID', 'Order ID', 'Order Date', 'Ship Date', 'Ship Mode',\n",
       "       'Customer ID', 'Customer Name', 'Segment', 'Country', 'City', 'State',\n",
       "       'Postal Code', 'Region', 'Product ID', 'Category', 'Sub-Category',\n",
       "       'Product Name', 'Sales', 'Quantity', 'Discount', 'Profit'],\n",
       "      dtype='object')"
      ]
     },
     "execution_count": 8,
     "metadata": {},
     "output_type": "execute_result"
    }
   ],
   "source": [
    "df.columns"
   ]
  },
  {
   "cell_type": "markdown",
   "id": "74da4905-01c9-4ca4-8c52-dd1b1af90116",
   "metadata": {},
   "source": [
    "### Cast string to Date"
   ]
  },
  {
   "cell_type": "code",
   "execution_count": 9,
   "id": "dd5def50-0b42-4775-805a-c8cba5acefa5",
   "metadata": {},
   "outputs": [],
   "source": [
    "df['Ship Date'] = pd.to_datetime(df['Ship Date'])\n",
    "df['Order Date'] = pd.to_datetime(df['Order Date'])"
   ]
  },
  {
   "cell_type": "markdown",
   "id": "e9b0ec01-dd02-40b5-a3c4-694b4b3c5d9b",
   "metadata": {},
   "source": [
    "creating two new columns with year and month values from order date"
   ]
  },
  {
   "cell_type": "code",
   "execution_count": 14,
   "id": "f03f3c37-769e-4b81-b131-b8c79bef8ffe",
   "metadata": {},
   "outputs": [],
   "source": [
    "df['Order Date Month'] = df['Order Date'].dt.month\n",
    "df['Order Date Year'] = df['Order Date'].dt.year"
   ]
  },
  {
   "cell_type": "code",
   "execution_count": 16,
   "id": "068e0406-fb53-4663-bc67-eee57282f7a6",
   "metadata": {},
   "outputs": [
    {
     "data": {
      "text/html": [
       "<div>\n",
       "<style scoped>\n",
       "    .dataframe tbody tr th:only-of-type {\n",
       "        vertical-align: middle;\n",
       "    }\n",
       "\n",
       "    .dataframe tbody tr th {\n",
       "        vertical-align: top;\n",
       "    }\n",
       "\n",
       "    .dataframe thead th {\n",
       "        text-align: right;\n",
       "    }\n",
       "</style>\n",
       "<table border=\"1\" class=\"dataframe\">\n",
       "  <thead>\n",
       "    <tr style=\"text-align: right;\">\n",
       "      <th></th>\n",
       "      <th>Row ID</th>\n",
       "      <th>Order ID</th>\n",
       "      <th>Order Date</th>\n",
       "      <th>Ship Date</th>\n",
       "      <th>Ship Mode</th>\n",
       "      <th>Customer ID</th>\n",
       "      <th>Customer Name</th>\n",
       "      <th>Segment</th>\n",
       "      <th>Country</th>\n",
       "      <th>City</th>\n",
       "      <th>...</th>\n",
       "      <th>Product ID</th>\n",
       "      <th>Category</th>\n",
       "      <th>Sub-Category</th>\n",
       "      <th>Product Name</th>\n",
       "      <th>Sales</th>\n",
       "      <th>Quantity</th>\n",
       "      <th>Discount</th>\n",
       "      <th>Profit</th>\n",
       "      <th>Order Date Month</th>\n",
       "      <th>Order Date Year</th>\n",
       "    </tr>\n",
       "  </thead>\n",
       "  <tbody>\n",
       "    <tr>\n",
       "      <th>0</th>\n",
       "      <td>1</td>\n",
       "      <td>CA-2016-152156</td>\n",
       "      <td>2016-11-08</td>\n",
       "      <td>2016-11-11</td>\n",
       "      <td>Second Class</td>\n",
       "      <td>CG-12520</td>\n",
       "      <td>Claire Gute</td>\n",
       "      <td>Consumer</td>\n",
       "      <td>United States</td>\n",
       "      <td>Henderson</td>\n",
       "      <td>...</td>\n",
       "      <td>FUR-BO-10001798</td>\n",
       "      <td>Furniture</td>\n",
       "      <td>Bookcases</td>\n",
       "      <td>Bush Somerset Collection Bookcase</td>\n",
       "      <td>261.96</td>\n",
       "      <td>2</td>\n",
       "      <td>0.0</td>\n",
       "      <td>41.9136</td>\n",
       "      <td>11</td>\n",
       "      <td>2016</td>\n",
       "    </tr>\n",
       "    <tr>\n",
       "      <th>1</th>\n",
       "      <td>2</td>\n",
       "      <td>CA-2016-152156</td>\n",
       "      <td>2016-11-08</td>\n",
       "      <td>2016-11-11</td>\n",
       "      <td>Second Class</td>\n",
       "      <td>CG-12520</td>\n",
       "      <td>Claire Gute</td>\n",
       "      <td>Consumer</td>\n",
       "      <td>United States</td>\n",
       "      <td>Henderson</td>\n",
       "      <td>...</td>\n",
       "      <td>FUR-CH-10000454</td>\n",
       "      <td>Furniture</td>\n",
       "      <td>Chairs</td>\n",
       "      <td>Hon Deluxe Fabric Upholstered Stacking Chairs,...</td>\n",
       "      <td>731.94</td>\n",
       "      <td>3</td>\n",
       "      <td>0.0</td>\n",
       "      <td>219.5820</td>\n",
       "      <td>11</td>\n",
       "      <td>2016</td>\n",
       "    </tr>\n",
       "    <tr>\n",
       "      <th>2</th>\n",
       "      <td>3</td>\n",
       "      <td>CA-2016-138688</td>\n",
       "      <td>2016-06-12</td>\n",
       "      <td>2016-06-16</td>\n",
       "      <td>Second Class</td>\n",
       "      <td>DV-13045</td>\n",
       "      <td>Darrin Van Huff</td>\n",
       "      <td>Corporate</td>\n",
       "      <td>United States</td>\n",
       "      <td>Los Angeles</td>\n",
       "      <td>...</td>\n",
       "      <td>OFF-LA-10000240</td>\n",
       "      <td>Office Supplies</td>\n",
       "      <td>Labels</td>\n",
       "      <td>Self-Adhesive Address Labels for Typewriters b...</td>\n",
       "      <td>14.62</td>\n",
       "      <td>2</td>\n",
       "      <td>0.0</td>\n",
       "      <td>6.8714</td>\n",
       "      <td>6</td>\n",
       "      <td>2016</td>\n",
       "    </tr>\n",
       "  </tbody>\n",
       "</table>\n",
       "<p>3 rows × 23 columns</p>\n",
       "</div>"
      ],
      "text/plain": [
       "   Row ID        Order ID Order Date  Ship Date     Ship Mode Customer ID  \\\n",
       "0       1  CA-2016-152156 2016-11-08 2016-11-11  Second Class    CG-12520   \n",
       "1       2  CA-2016-152156 2016-11-08 2016-11-11  Second Class    CG-12520   \n",
       "2       3  CA-2016-138688 2016-06-12 2016-06-16  Second Class    DV-13045   \n",
       "\n",
       "     Customer Name    Segment        Country         City  ...  \\\n",
       "0      Claire Gute   Consumer  United States    Henderson  ...   \n",
       "1      Claire Gute   Consumer  United States    Henderson  ...   \n",
       "2  Darrin Van Huff  Corporate  United States  Los Angeles  ...   \n",
       "\n",
       "        Product ID         Category Sub-Category  \\\n",
       "0  FUR-BO-10001798        Furniture    Bookcases   \n",
       "1  FUR-CH-10000454        Furniture       Chairs   \n",
       "2  OFF-LA-10000240  Office Supplies       Labels   \n",
       "\n",
       "                                        Product Name   Sales Quantity  \\\n",
       "0                  Bush Somerset Collection Bookcase  261.96        2   \n",
       "1  Hon Deluxe Fabric Upholstered Stacking Chairs,...  731.94        3   \n",
       "2  Self-Adhesive Address Labels for Typewriters b...   14.62        2   \n",
       "\n",
       "  Discount    Profit  Order Date Month  Order Date Year  \n",
       "0      0.0   41.9136                11             2016  \n",
       "1      0.0  219.5820                11             2016  \n",
       "2      0.0    6.8714                 6             2016  \n",
       "\n",
       "[3 rows x 23 columns]"
      ]
     },
     "execution_count": 16,
     "metadata": {},
     "output_type": "execute_result"
    }
   ],
   "source": [
    "df.head(3)"
   ]
  },
  {
   "cell_type": "markdown",
   "id": "9c2f60eb-eec1-4107-b557-879deb8bcd6f",
   "metadata": {},
   "source": [
    "### Ejercicios"
   ]
  },
  {
   "cell_type": "markdown",
   "id": "1ce763ef-d242-4190-b12e-edd66ba5679d",
   "metadata": {},
   "source": [
    "0. Haga un analisis de nulos por cada columna"
   ]
  },
  {
   "cell_type": "code",
   "execution_count": null,
   "id": "00b11614-2d0a-44ad-9ab6-76a6ec2a0bf3",
   "metadata": {},
   "outputs": [],
   "source": []
  },
  {
   "cell_type": "markdown",
   "id": "02cb6712-747a-49ea-b4e8-f138f2d1d336",
   "metadata": {},
   "source": [
    "1. Cree una nueva columna \"total\" que contenga la multiplicacion de: Quantity y Sales"
   ]
  },
  {
   "cell_type": "code",
   "execution_count": null,
   "id": "54c05efb-dec4-404e-b032-6783af2b5217",
   "metadata": {},
   "outputs": [],
   "source": []
  },
  {
   "cell_type": "markdown",
   "id": "534040c1-76ff-466e-93b2-6578d4bc68a2",
   "metadata": {},
   "source": [
    "2. la suma de total agrupado por Customer ID, mes y anio"
   ]
  },
  {
   "cell_type": "code",
   "execution_count": null,
   "id": "98018141-7329-4d4f-83d7-85ebcdc7a8b3",
   "metadata": {},
   "outputs": [],
   "source": []
  },
  {
   "cell_type": "markdown",
   "id": "1e311f25-c0a6-4419-81f6-f53e7983d802",
   "metadata": {},
   "source": [
    "3. Segun la fecha Actual cuantos dias han pasado desde la ultima compra de cada cliente"
   ]
  },
  {
   "cell_type": "markdown",
   "id": "81a4bea2-f7bd-4321-9f86-bd05558a6901",
   "metadata": {},
   "source": [
    "Pista: para poder restar fechas y obtener el numero de dias puede lo siguiente:"
   ]
  },
  {
   "cell_type": "code",
   "execution_count": 21,
   "id": "9861bb8d-38f0-4690-b522-1f7c39ae509c",
   "metadata": {},
   "outputs": [
    {
     "data": {
      "text/plain": [
       "0       3\n",
       "1       3\n",
       "2       4\n",
       "3       7\n",
       "4       7\n",
       "       ..\n",
       "9989    2\n",
       "9990    5\n",
       "9991    5\n",
       "9992    5\n",
       "9993    5\n",
       "Length: 9994, dtype: int64"
      ]
     },
     "execution_count": 21,
     "metadata": {},
     "output_type": "execute_result"
    }
   ],
   "source": [
    "(df['Ship Date'] - df['Order Date']).dt.days"
   ]
  },
  {
   "cell_type": "markdown",
   "id": "1b7aa2e4-84d6-419b-b4fd-6a2d89fec7e9",
   "metadata": {},
   "source": [
    "Pista: para obtener la fecha actual puede usar la siguiente instruccion"
   ]
  },
  {
   "cell_type": "code",
   "execution_count": 27,
   "id": "c1a9235b-212f-4757-94ad-b81d96d04b82",
   "metadata": {},
   "outputs": [
    {
     "data": {
      "text/plain": [
       "datetime.date(2022, 3, 23)"
      ]
     },
     "execution_count": 27,
     "metadata": {},
     "output_type": "execute_result"
    }
   ],
   "source": [
    "date.today()"
   ]
  },
  {
   "cell_type": "code",
   "execution_count": null,
   "id": "062867f9-c1b7-425b-85c8-0d8cff9ad6ac",
   "metadata": {},
   "outputs": [],
   "source": []
  },
  {
   "cell_type": "markdown",
   "id": "b94be22f-214d-43cc-98d4-61855994d2cf",
   "metadata": {},
   "source": [
    "4. El producto mas vendido por mes y anio"
   ]
  },
  {
   "cell_type": "code",
   "execution_count": null,
   "id": "4e940572-65fe-4d9a-a1e3-32bb8867704e",
   "metadata": {},
   "outputs": [],
   "source": []
  },
  {
   "cell_type": "markdown",
   "id": "91173570-2073-46d2-a617-815e04fd3146",
   "metadata": {},
   "source": [
    "5. Top 3 por anio de los productos que generaron mejor profit"
   ]
  },
  {
   "cell_type": "code",
   "execution_count": null,
   "id": "502c2006-7c41-497b-bed8-22baac2cc26c",
   "metadata": {},
   "outputs": [],
   "source": []
  },
  {
   "cell_type": "markdown",
   "id": "dbe8a4b1-2839-4e1f-9e76-3d0df8c0154e",
   "metadata": {},
   "source": [
    "6. Profits summados por Country"
   ]
  },
  {
   "cell_type": "code",
   "execution_count": null,
   "id": "11b68a22-2cd8-44b1-b4f5-f7e4c9b63919",
   "metadata": {},
   "outputs": [],
   "source": []
  },
  {
   "cell_type": "markdown",
   "id": "9d4ce1ef-b92b-4567-9af9-224310c1edc2",
   "metadata": {},
   "source": [
    "7. en que ciudades se encuentran los mejores 3 clientes tomando en cuenta toda la data historica"
   ]
  },
  {
   "cell_type": "code",
   "execution_count": null,
   "id": "317d6fe5-adba-4e38-b567-8db97d5d0f66",
   "metadata": {},
   "outputs": [],
   "source": []
  },
  {
   "cell_type": "markdown",
   "id": "0241b10a-34ce-4b7e-aeee-67c460f9b970",
   "metadata": {},
   "source": [
    "8. Por cliente cual es el promedio y mediana de dias transcurridos de una transaccion a otra\n",
    "\n",
    "Notas:\n",
    "\n",
    "- Para el primer registro tomado por un cliente la diferencia con respecto a la fecha anterior seria cero, ya que no hay data historica. \n",
    "- Para el segundo registro deberia de restar la fecha de la ultima transaccion menos la actual\n",
    "\n",
    "Ejemplo:\n",
    "\n",
    "\n"
   ]
  },
  {
   "cell_type": "code",
   "execution_count": 33,
   "id": "64a0ddb7-c5b5-4e55-a4a1-704c8df7a809",
   "metadata": {},
   "outputs": [
    {
     "data": {
      "text/html": [
       "<div>\n",
       "<style scoped>\n",
       "    .dataframe tbody tr th:only-of-type {\n",
       "        vertical-align: middle;\n",
       "    }\n",
       "\n",
       "    .dataframe tbody tr th {\n",
       "        vertical-align: top;\n",
       "    }\n",
       "\n",
       "    .dataframe thead th {\n",
       "        text-align: right;\n",
       "    }\n",
       "</style>\n",
       "<table border=\"1\" class=\"dataframe\">\n",
       "  <thead>\n",
       "    <tr style=\"text-align: right;\">\n",
       "      <th></th>\n",
       "      <th>Cliente</th>\n",
       "      <th>date order</th>\n",
       "      <th>Dias desde la ultima venta</th>\n",
       "    </tr>\n",
       "  </thead>\n",
       "  <tbody>\n",
       "    <tr>\n",
       "      <th>0</th>\n",
       "      <td>A</td>\n",
       "      <td>2016-11-08</td>\n",
       "      <td>0</td>\n",
       "    </tr>\n",
       "    <tr>\n",
       "      <th>1</th>\n",
       "      <td>A</td>\n",
       "      <td>2016-11-10</td>\n",
       "      <td>2</td>\n",
       "    </tr>\n",
       "  </tbody>\n",
       "</table>\n",
       "</div>"
      ],
      "text/plain": [
       "  Cliente  date order  Dias desde la ultima venta\n",
       "0       A  2016-11-08                           0\n",
       "1       A  2016-11-10                           2"
      ]
     },
     "execution_count": 33,
     "metadata": {},
     "output_type": "execute_result"
    }
   ],
   "source": [
    "pd.DataFrame({\n",
    "      \"Cliente\": [\"A\",\"A\"]\n",
    "    , \"date order\" : ['2016-11-08','2016-11-10']\n",
    "    , \"Dias desde la ultima venta\": [0, 2]\n",
    "})"
   ]
  },
  {
   "cell_type": "markdown",
   "id": "e7b57a3e-7dba-452d-bd67-46b0d9b82937",
   "metadata": {},
   "source": [
    "Pista:\n",
    "\n",
    "Para realizar este tipo de transformaciones debe de usar funciones de ventana. para este caso en particual el Lag"
   ]
  },
  {
   "cell_type": "code",
   "execution_count": 41,
   "id": "80acbf78-96a1-4527-8bf3-66f5b6d70295",
   "metadata": {},
   "outputs": [],
   "source": [
    "DFEjemplo = pd.DataFrame({\n",
    "    \"Cliente\": [\"A\",\"A\",\"B\",\"B\",\"B\"]\n",
    "    , \"Venta\": [2000,100,200,300,4000]\n",
    "})"
   ]
  },
  {
   "cell_type": "code",
   "execution_count": 42,
   "id": "72cb554e-c044-42a2-9c84-a80443e5754e",
   "metadata": {},
   "outputs": [],
   "source": [
    "DFEjemplo['lagVenta'] =  DFEjemplo.groupby([\"Cliente\"], as_index=False)['Venta'].shift(1)"
   ]
  },
  {
   "cell_type": "code",
   "execution_count": 43,
   "id": "c88b486b-6962-4dc4-9a32-46ace7dda85a",
   "metadata": {},
   "outputs": [
    {
     "data": {
      "text/html": [
       "<div>\n",
       "<style scoped>\n",
       "    .dataframe tbody tr th:only-of-type {\n",
       "        vertical-align: middle;\n",
       "    }\n",
       "\n",
       "    .dataframe tbody tr th {\n",
       "        vertical-align: top;\n",
       "    }\n",
       "\n",
       "    .dataframe thead th {\n",
       "        text-align: right;\n",
       "    }\n",
       "</style>\n",
       "<table border=\"1\" class=\"dataframe\">\n",
       "  <thead>\n",
       "    <tr style=\"text-align: right;\">\n",
       "      <th></th>\n",
       "      <th>Cliente</th>\n",
       "      <th>Venta</th>\n",
       "      <th>lagVenta</th>\n",
       "    </tr>\n",
       "  </thead>\n",
       "  <tbody>\n",
       "    <tr>\n",
       "      <th>0</th>\n",
       "      <td>A</td>\n",
       "      <td>2000</td>\n",
       "      <td>NaN</td>\n",
       "    </tr>\n",
       "    <tr>\n",
       "      <th>1</th>\n",
       "      <td>A</td>\n",
       "      <td>100</td>\n",
       "      <td>2000.0</td>\n",
       "    </tr>\n",
       "    <tr>\n",
       "      <th>2</th>\n",
       "      <td>B</td>\n",
       "      <td>200</td>\n",
       "      <td>NaN</td>\n",
       "    </tr>\n",
       "    <tr>\n",
       "      <th>3</th>\n",
       "      <td>B</td>\n",
       "      <td>300</td>\n",
       "      <td>200.0</td>\n",
       "    </tr>\n",
       "    <tr>\n",
       "      <th>4</th>\n",
       "      <td>B</td>\n",
       "      <td>4000</td>\n",
       "      <td>300.0</td>\n",
       "    </tr>\n",
       "  </tbody>\n",
       "</table>\n",
       "</div>"
      ],
      "text/plain": [
       "  Cliente  Venta  lagVenta\n",
       "0       A   2000       NaN\n",
       "1       A    100    2000.0\n",
       "2       B    200       NaN\n",
       "3       B    300     200.0\n",
       "4       B   4000     300.0"
      ]
     },
     "execution_count": 43,
     "metadata": {},
     "output_type": "execute_result"
    }
   ],
   "source": [
    "DFEjemplo"
   ]
  },
  {
   "cell_type": "markdown",
   "id": "18d02f29-8747-46c3-a450-669f47c1ae7e",
   "metadata": {},
   "source": [
    "Si lo que busca es un Lead (no es el caso para el ejercicio solicitado) , en el parametro de shift le debe de pasar un -1"
   ]
  },
  {
   "cell_type": "code",
   "execution_count": 44,
   "id": "ccef7b36-e25c-4619-bb73-a4bf0ad31fd6",
   "metadata": {},
   "outputs": [],
   "source": [
    "DFEjemplo['leadVenta'] =  DFEjemplo.groupby([\"Cliente\"], as_index=False)['Venta'].shift(-1)"
   ]
  },
  {
   "cell_type": "code",
   "execution_count": 45,
   "id": "b13eec87-22d6-4cc4-acee-23b3fc00d8ca",
   "metadata": {},
   "outputs": [
    {
     "data": {
      "text/html": [
       "<div>\n",
       "<style scoped>\n",
       "    .dataframe tbody tr th:only-of-type {\n",
       "        vertical-align: middle;\n",
       "    }\n",
       "\n",
       "    .dataframe tbody tr th {\n",
       "        vertical-align: top;\n",
       "    }\n",
       "\n",
       "    .dataframe thead th {\n",
       "        text-align: right;\n",
       "    }\n",
       "</style>\n",
       "<table border=\"1\" class=\"dataframe\">\n",
       "  <thead>\n",
       "    <tr style=\"text-align: right;\">\n",
       "      <th></th>\n",
       "      <th>Cliente</th>\n",
       "      <th>Venta</th>\n",
       "      <th>lagVenta</th>\n",
       "      <th>leadVenta</th>\n",
       "    </tr>\n",
       "  </thead>\n",
       "  <tbody>\n",
       "    <tr>\n",
       "      <th>0</th>\n",
       "      <td>A</td>\n",
       "      <td>2000</td>\n",
       "      <td>NaN</td>\n",
       "      <td>100.0</td>\n",
       "    </tr>\n",
       "    <tr>\n",
       "      <th>1</th>\n",
       "      <td>A</td>\n",
       "      <td>100</td>\n",
       "      <td>2000.0</td>\n",
       "      <td>NaN</td>\n",
       "    </tr>\n",
       "    <tr>\n",
       "      <th>2</th>\n",
       "      <td>B</td>\n",
       "      <td>200</td>\n",
       "      <td>NaN</td>\n",
       "      <td>300.0</td>\n",
       "    </tr>\n",
       "    <tr>\n",
       "      <th>3</th>\n",
       "      <td>B</td>\n",
       "      <td>300</td>\n",
       "      <td>200.0</td>\n",
       "      <td>4000.0</td>\n",
       "    </tr>\n",
       "    <tr>\n",
       "      <th>4</th>\n",
       "      <td>B</td>\n",
       "      <td>4000</td>\n",
       "      <td>300.0</td>\n",
       "      <td>NaN</td>\n",
       "    </tr>\n",
       "  </tbody>\n",
       "</table>\n",
       "</div>"
      ],
      "text/plain": [
       "  Cliente  Venta  lagVenta  leadVenta\n",
       "0       A   2000       NaN      100.0\n",
       "1       A    100    2000.0        NaN\n",
       "2       B    200       NaN      300.0\n",
       "3       B    300     200.0     4000.0\n",
       "4       B   4000     300.0        NaN"
      ]
     },
     "execution_count": 45,
     "metadata": {},
     "output_type": "execute_result"
    }
   ],
   "source": [
    "DFEjemplo"
   ]
  },
  {
   "cell_type": "code",
   "execution_count": null,
   "id": "22c0adda-59ec-4b7e-b215-8f4ea21eea41",
   "metadata": {},
   "outputs": [],
   "source": []
  },
  {
   "cell_type": "markdown",
   "id": "609dd4bf-0ce1-43d3-8d56-657a045c50bd",
   "metadata": {},
   "source": [
    "9. Conteo de registros por ship mode"
   ]
  },
  {
   "cell_type": "code",
   "execution_count": null,
   "id": "d5e54696-1c51-417f-92ac-144eca381753",
   "metadata": {},
   "outputs": [],
   "source": []
  }
 ],
 "metadata": {
  "kernelspec": {
   "display_name": "Python 3",
   "language": "python",
   "name": "python3"
  },
  "language_info": {
   "codemirror_mode": {
    "name": "ipython",
    "version": 3
   },
   "file_extension": ".py",
   "mimetype": "text/x-python",
   "name": "python",
   "nbconvert_exporter": "python",
   "pygments_lexer": "ipython3",
   "version": "3.8.8"
  }
 },
 "nbformat": 4,
 "nbformat_minor": 5
}
